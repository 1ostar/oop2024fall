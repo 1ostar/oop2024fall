{
 "cells": [
  {
   "cell_type": "markdown",
   "metadata": {},
   "source": [
    "# List and Map\n",
    "자바(뿐만 아니라 대부분 프로그래밍 언어들)에서 가장 흔하게 활용되는 데이터 구조인 `List`(인덱스로 접근 가능한 리스트)와 `Map`(딕셔너리)를 알아보자.\n",
    "\n",
    "- https://docs.oracle.com/en/java/javase/22/docs/api/java.base/java/util/List.html\n",
    "- https://docs.oracle.com/en/java/javase/22/docs/api/java.base/java/util/Map.html"
   ]
  },
  {
   "cell_type": "markdown",
   "metadata": {},
   "source": [
    "## List\n",
    "To create a simple list\n"
   ]
  },
  {
   "cell_type": "code",
   "execution_count": 1,
   "metadata": {},
   "outputs": [
    {
     "name": "stdout",
     "output_type": "stream",
     "text": [
      "[1, 2, 3]\n"
     ]
    }
   ],
   "source": [
    "var numbers = List.of(1, 2, 3);\n",
    "System.out.println(numbers);"
   ]
  },
  {
   "cell_type": "markdown",
   "metadata": {},
   "source": [
    "a list is an indexed data structure that stores object in the order of insertions\n",
    "get() access to an element given an index\n"
   ]
  },
  {
   "cell_type": "code",
   "execution_count": 2,
   "metadata": {},
   "outputs": [
    {
     "data": {
      "text/plain": [
       "3"
      ]
     },
     "execution_count": 2,
     "metadata": {},
     "output_type": "execute_result"
    }
   ],
   "source": [
    "numbers.size()"
   ]
  },
  {
   "cell_type": "code",
   "execution_count": 3,
   "metadata": {},
   "outputs": [
    {
     "data": {
      "text/plain": [
       "1"
      ]
     },
     "execution_count": 3,
     "metadata": {},
     "output_type": "execute_result"
    }
   ],
   "source": [
    "numbers.get(0) // 배열이었다면 numbers[0]"
   ]
  },
  {
   "cell_type": "code",
   "execution_count": 4,
   "metadata": {},
   "outputs": [
    {
     "ename": "EvalException",
     "evalue": "",
     "output_type": "error",
     "traceback": [
      "\u001b[0m\u001b[1m\u001b[31mjava.lang.UnsupportedOperationException: null\n\u001b[0m",
      "\u001b[0m\u001b[1m\u001b[34m   at java.base/java.util.ImmutableCollections.uoe(ImmutableCollections.java:142)\u001b[0m",
      "\u001b[0m\u001b[1m\u001b[34m   at java.base/java.util.ImmutableCollections$AbstractImmutableList.set(ImmutableCollections.java:262)\u001b[0m",
      "\u001b[0m\u001b[1m\u001b[34m   at .(#6:1)\u001b[0m",
      "\u001b[0m\u001b[0m\u001b[1m|--> numbers.set(0,10)\u001b[0m"
     ]
    }
   ],
   "source": [
    "numbers.set(0,10)"
   ]
  },
  {
   "cell_type": "code",
   "execution_count": 5,
   "metadata": {},
   "outputs": [
    {
     "data": {
      "text/plain": [
       "3"
      ]
     },
     "execution_count": 5,
     "metadata": {},
     "output_type": "execute_result"
    }
   ],
   "source": [
    "numbers.get(numbers.size() - 1)"
   ]
  },
  {
   "cell_type": "code",
   "execution_count": 6,
   "metadata": {},
   "outputs": [
    {
     "data": {
      "text/plain": [
       "class java.util.ImmutableCollections$ListN"
      ]
     },
     "execution_count": 6,
     "metadata": {},
     "output_type": "execute_result"
    }
   ],
   "source": [
    "numbers.getClass()"
   ]
  },
  {
   "cell_type": "code",
   "execution_count": 7,
   "metadata": {},
   "outputs": [
    {
     "data": {
      "text/plain": [
       "false"
      ]
     },
     "execution_count": 7,
     "metadata": {},
     "output_type": "execute_result"
    }
   ],
   "source": [
    "numbers instanceof ArrayList"
   ]
  },
  {
   "cell_type": "code",
   "execution_count": 8,
   "metadata": {},
   "outputs": [
    {
     "data": {
      "text/plain": [
       "false"
      ]
     },
     "execution_count": 8,
     "metadata": {},
     "output_type": "execute_result"
    }
   ],
   "source": [
    "numbers instanceof AbstractList"
   ]
  },
  {
   "cell_type": "markdown",
   "metadata": {},
   "source": [
    "contains return true if a value is contained in the list\n"
   ]
  },
  {
   "cell_type": "code",
   "execution_count": 9,
   "metadata": {},
   "outputs": [
    {
     "name": "stdout",
     "output_type": "stream",
     "text": [
      "false\n"
     ]
    }
   ],
   "source": [
    "System.out.println(numbers.contains(4));\n"
   ]
  },
  {
   "cell_type": "markdown",
   "metadata": {},
   "source": [
    "indexOf returns the first index of the element in the list\n"
   ]
  },
  {
   "cell_type": "code",
   "execution_count": 10,
   "metadata": {},
   "outputs": [
    {
     "name": "stdout",
     "output_type": "stream",
     "text": [
      "1\n"
     ]
    }
   ],
   "source": [
    "System.out.println(numbers.indexOf(2));\n"
   ]
  },
  {
   "cell_type": "markdown",
   "metadata": {},
   "source": [
    "a list also defines the method equals()/hashCode() and toString(), so\n",
    "you can print a list or test if two list are equals\n"
   ]
  },
  {
   "cell_type": "code",
   "execution_count": 11,
   "metadata": {},
   "outputs": [
    {
     "name": "stdout",
     "output_type": "stream",
     "text": [
      "[cesar, rosalie, david]\n",
      "695519448\n",
      "false\n"
     ]
    }
   ],
   "source": [
    "var friends = List.of(\"cesar\", \"rosalie\", \"david\");\n",
    "System.out.println(friends);\n",
    "System.out.println(friends.hashCode());\n",
    "System.out.println(friends.equals(numbers));\n"
   ]
  },
  {
   "cell_type": "markdown",
   "metadata": {},
   "source": [
    "### 불변(unmodifiable)/가변(modifiable) list\n",
    "자바 SDK에서 제공하는 데이터 구조 인터페이스는 어떤 방식으로 생성하느냐에 따라\n",
    "만들어진 다음 변경이 가능하게 또는 불가능하게 만들어질 수 있다.\n",
    "\n",
    "만들어진 후에 데이터 구조의 구현(implementation)이\n",
    "\n",
    "- 변경 가능하면 가변(modifiable) 데이터 구조\n",
    "- 변경 불가능하면 불변(unmodifiable) 데이터 구조\n",
    "\n",
    "라고 부른다."
   ]
  },
  {
   "cell_type": "markdown",
   "metadata": {},
   "source": [
    "예컨대, 클래스 메소드 `of()`로 불변 리스트를 생성할 수 있다."
   ]
  },
  {
   "cell_type": "code",
   "execution_count": 12,
   "metadata": {},
   "outputs": [
    {
     "ename": "EvalException",
     "evalue": "",
     "output_type": "error",
     "traceback": [
      "\u001b[0m\u001b[1m\u001b[31mjava.lang.UnsupportedOperationException: null\n\u001b[0m",
      "\u001b[0m\u001b[1m\u001b[34m   at java.base/java.util.ImmutableCollections.uoe(ImmutableCollections.java:142)\u001b[0m",
      "\u001b[0m\u001b[1m\u001b[34m   at java.base/java.util.ImmutableCollections$AbstractImmutableList.set(ImmutableCollections.java:262)\u001b[0m",
      "\u001b[0m\u001b[1m\u001b[34m   at .(#18:1)\u001b[0m",
      "\u001b[0m\u001b[0m\u001b[1m|--> countries.set(0, \"Poland\"); // throws an UnsupportedOperationException\u001b[0m",
      "\u001b[0m\u001b[0m\u001b[1m|    // 배열로 치자면 contries[0] = \"Poland\";\u001b[0m"
     ]
    }
   ],
   "source": [
    "var countries = List.of(\"UK\", \"US\", \"France\");\n",
    "countries.set(0, \"Poland\"); // throws an UnsupportedOperationException\n",
    "// 배열로 치자면 contries[0] = \"Poland\";"
   ]
  },
  {
   "cell_type": "markdown",
   "metadata": {},
   "source": [
    "가변 리스트는 `new`를 활용해 `ArrayList` 클래스의 생성자를 호출하여 생성하면 된다.\n",
    "\n",
    "아래 코드에서는 아무런 원소 없이 생성하기 때문에 리스트 원소의 타입을 컴파일러가 스스로 추측할 방법이 없으므로\n",
    "꺾쇠 괄호(또는 부등호 괄호) 안에 어떤 원소를 담을 수 있는 리스트인지 원소의 타입을 작성해 주어야 한다."
   ]
  },
  {
   "cell_type": "code",
   "execution_count": 13,
   "metadata": {},
   "outputs": [
    {
     "name": "stdout",
     "output_type": "stream",
     "text": [
      "[]\n"
     ]
    }
   ],
   "source": [
    "var modifiableCountries = new ArrayList<String>();\n",
    "// var modifiableCountries = new ArrayList<>(); // String을 생략하면 오류 발생함\n",
    "System.out.println(modifiableCountries);\n"
   ]
  },
  {
   "cell_type": "markdown",
   "metadata": {},
   "source": [
    "그리고 `add()` 메소드로 리스트에 원소를 추가할 수 있다."
   ]
  },
  {
   "cell_type": "code",
   "execution_count": 14,
   "metadata": {},
   "outputs": [
    {
     "name": "stdout",
     "output_type": "stream",
     "text": [
      "[UK, US, France, Poland]\n"
     ]
    }
   ],
   "source": [
    "modifiableCountries.add(\"UK\");\n",
    "modifiableCountries.add(\"US\");\n",
    "modifiableCountries.add(\"France\");\n",
    "modifiableCountries.add(\"Poland\");\n",
    "System.out.println(modifiableCountries);\n"
   ]
  },
  {
   "cell_type": "markdown",
   "metadata": {},
   "source": [
    "to remove an element, we have the method `remove()`\n"
   ]
  },
  {
   "cell_type": "code",
   "execution_count": 15,
   "metadata": {},
   "outputs": [
    {
     "name": "stdout",
     "output_type": "stream",
     "text": [
      "[US, France, Poland]\n"
     ]
    }
   ],
   "source": [
    "modifiableCountries.remove(\"UK\");\n",
    "System.out.println(modifiableCountries);\n"
   ]
  },
  {
   "cell_type": "code",
   "execution_count": 16,
   "metadata": {},
   "outputs": [
    {
     "name": "stdout",
     "output_type": "stream",
     "text": [
      "[Korea, France, Poland]\n"
     ]
    }
   ],
   "source": [
    "modifiableCountries.set(0,\"Korea\");\n",
    "System.out.println(modifiableCountries);\n"
   ]
  },
  {
   "cell_type": "markdown",
   "metadata": {},
   "source": [
    "### 반복하기(Iterating)\n",
    "자바에서 불변 리스트와 가변 리스트는 똑같은 종류의 메소드들을 제공한다.\n",
    "\n",
    "아래와 같이 `for`문으로 리스트의 모든 원소를 순회(순서대로 돌아가며 진행)할 수 있다."
   ]
  },
  {
   "cell_type": "code",
   "execution_count": 17,
   "metadata": {},
   "outputs": [
    {
     "name": "stdout",
     "output_type": "stream",
     "text": [
      "UK\n",
      "US\n",
      "France\n"
     ]
    }
   ],
   "source": [
    "var countries = List.of(\"UK\", \"US\", \"France\");\n",
    "for(var country: countries) {\n",
    "  System.out.println(country);\n",
    "}"
   ]
  },
  {
   "cell_type": "markdown",
   "metadata": {},
   "source": [
    "you can also loop over the elements using a method forEach\n",
    "if you don't understand this one, don't panic, we will see it later\n"
   ]
  },
  {
   "cell_type": "code",
   "execution_count": 18,
   "metadata": {},
   "outputs": [
    {
     "name": "stdout",
     "output_type": "stream",
     "text": [
      "UK\n",
      "US\n",
      "France\n"
     ]
    }
   ],
   "source": [
    "countries.forEach(country -> System.out.println(country));\n"
   ]
  },
  {
   "cell_type": "markdown",
   "metadata": {},
   "source": [
    "### 불변/가변 리스트로 변환(Conversion)\n",
    "가변 리스트를 불변 리스트로, 또 반대로 불변 리스트를 가변 리스트로 변환하는 방법에 대해 알아보자.\n",
    "\n",
    "`List`의 `copyOf()` 클래스 메소드로 가변 리스트의 복사본인 불변 리스트를 생성할 수 있다."
   ]
  },
  {
   "cell_type": "code",
   "execution_count": 19,
   "metadata": {},
   "outputs": [
    {
     "name": "stdout",
     "output_type": "stream",
     "text": [
      "[Korea, France, Poland]\n"
     ]
    }
   ],
   "source": [
    "var unmodifiableList = List.copyOf(modifiableCountries);\n",
    "System.out.println(unmodifiableList);\n"
   ]
  },
  {
   "cell_type": "code",
   "execution_count": 20,
   "metadata": {},
   "outputs": [
    {
     "name": "stdout",
     "output_type": "stream",
     "text": [
      "[Korea, Japan, Poland]\n",
      "[Korea, France, Poland]\n"
     ]
    }
   ],
   "source": [
    "modifiableCountries.set(1,\"Japan\");\n",
    "System.out.println(modifiableCountries); // 가변 원본\n",
    "System.out.println(unmodifiableList); // 불변 복사본"
   ]
  },
  {
   "cell_type": "markdown",
   "metadata": {},
   "source": [
    "반대로 불변 리스트를 가변 리스트로 변환하려면 하나의 파라메터가 있는 또 다른 형식의 `ArrayList` 생성자,\n",
    "즉 `ArrayList<>(List)`를 `new`를 활용해 호출하면 된다.\n",
    "\n",
    "이번에는 가변 리스트를 인수(argment)로 생성자의 파라메터에 제공하기 때문에\n",
    "컴파일러가 이미 파악하고 있는 가변 리스트의 원소 타입을 변환하여 생성하는 불변 리스트도 같은 원소 타입이라는 것을 추측할 수 있다.\n",
    "그래서 꺾쇠 괄호 안에 아무것도 쓰지 않고 생략된 형태(마치 다이아몬드 같은 모양)인 `<>`만 작성해도 된다."
   ]
  },
  {
   "cell_type": "code",
   "execution_count": 21,
   "metadata": {},
   "outputs": [
    {
     "name": "stdout",
     "output_type": "stream",
     "text": [
      "[Korea, France, Poland]\n"
     ]
    }
   ],
   "source": [
    "// 자바 컴파일러는 이미 unmodifiableList가 ArrayList<String>이라고 알고 있음\n",
    "var modifiableList = new ArrayList<>(unmodifiableList);\n",
    "// <>를 생략해도 일단 당장은 돌아가는데 위와 조금 달라요. 생략하지 마세요. 나중에 generics 하면서 다시 설명 예정\n",
    "// var modifiableList = new ArrayList(unmodifiableList); \n",
    "System.out.println(modifiableList);\n"
   ]
  },
  {
   "cell_type": "markdown",
   "metadata": {},
   "source": [
    "### Useful patterns\n",
    "To remove some elements depending on a predicate (if something is true)\n"
   ]
  },
  {
   "cell_type": "code",
   "execution_count": 22,
   "metadata": {},
   "outputs": [
    {
     "name": "stdout",
     "output_type": "stream",
     "text": [
      "[table, stool]\n"
     ]
    }
   ],
   "source": [
    "var elements = new ArrayList<>(List.of(\"table\", \"chair\", \"stool\"));\n",
    "elements.removeIf(element -> element.charAt(0) == 'c');\n",
    "System.out.println(elements);\n"
   ]
  },
  {
   "cell_type": "markdown",
   "metadata": {},
   "source": [
    "## Map\n",
    "`Map<Key,Value>`는 각각의 키(`Key`)를 어떤 값(`Value`)에 대응시키는 데이터 구조로,\n",
    "개념적으로는 배열(array)이나 리스트(`List`)를 더욱 유연하게 일반화한 구조로 볼 수 있다.\n",
    "왜냐하면 배열이나 리스트는 개념적으로 0부터 연속된 자연수(`Integer`)들을 키(`Key`)로 삼는 `Map`으로 이해할 수 있기 때문이다."
   ]
  },
  {
   "cell_type": "markdown",
   "metadata": {},
   "source": [
    "간단한 Map을 다음과 같이 생성할 수 있다."
   ]
  },
  {
   "cell_type": "code",
   "execution_count": 23,
   "metadata": {},
   "outputs": [],
   "source": [
    "var petCost = Map.of(\"cat\", 200, \"dog\", 350, \"lion\", 5000);"
   ]
  },
  {
   "cell_type": "code",
   "execution_count": 24,
   "metadata": {},
   "outputs": [
    {
     "data": {
      "text/plain": [
       "{lion=5000, dog=350, cat=200}"
      ]
     },
     "execution_count": 24,
     "metadata": {},
     "output_type": "execute_result"
    }
   ],
   "source": [
    "petCost"
   ]
  },
  {
   "cell_type": "markdown",
   "metadata": {},
   "source": [
    "키에 대응되는 값을 얻으려면"
   ]
  },
  {
   "cell_type": "code",
   "execution_count": 25,
   "metadata": {},
   "outputs": [
    {
     "data": {
      "text/plain": [
       "350"
      ]
     },
     "execution_count": 25,
     "metadata": {},
     "output_type": "execute_result"
    }
   ],
   "source": [
    "petCost.get(\"dog\")"
   ]
  },
  {
   "cell_type": "markdown",
   "metadata": {},
   "source": [
    "__주의__! __주의__! Map에 없는 키에 대응되는 값을 요청하면 `null`을 리턴한다!"
   ]
  },
  {
   "cell_type": "code",
   "execution_count": 26,
   "metadata": {},
   "outputs": [
    {
     "name": "stdout",
     "output_type": "stream",
     "text": [
      "null\n"
     ]
    }
   ],
   "source": [
    "var costOfAGirafe = petCost.get(\"girafe\");\n",
    "\n",
    "System.out.println(costOfAGirafe);"
   ]
  },
  {
   "cell_type": "markdown",
   "metadata": {},
   "source": [
    "`null`을 피하고 존재하지 않는 키에 대해서는 어떤 기본값을 리턴하도록 하려면 `getOrDefault()` 메소드를 활용하라."
   ]
  },
  {
   "cell_type": "code",
   "execution_count": 27,
   "metadata": {},
   "outputs": [
    {
     "name": "stdout",
     "output_type": "stream",
     "text": [
      "0\n"
     ]
    }
   ],
   "source": [
    "var costOfAGirafe = petCost.getOrDefault(\"girafe\", 0);\n",
    "\n",
    "System.out.println(costOfAGirafe);"
   ]
  },
  {
   "cell_type": "markdown",
   "metadata": {},
   "source": [
    "And like a list, a map defines the method `equals()`/`hashCode()` and `toString()`\n"
   ]
  },
  {
   "cell_type": "code",
   "execution_count": 28,
   "metadata": {},
   "outputs": [
    {
     "name": "stdout",
     "output_type": "stream",
     "text": [
      "{gray=white, blue=lightblue}\n",
      "1837713958\n",
      "false\n"
     ]
    }
   ],
   "source": [
    "var lighter = Map.of(\"blue\", \"lightblue\", \"gray\", \"white\");\n",
    "var darker = Map.of(\"blue\", \"darkblue\", \"gray\", \"black\");\n",
    "\n",
    "System.out.println(lighter);\n",
    "System.out.println(darker.hashCode());\n",
    "System.out.println(lighter.equals(darker));"
   ]
  },
  {
   "cell_type": "markdown",
   "metadata": {},
   "source": [
    "### 불변(unmodifiable)/가변(modifiable) `Map`\n",
    "앞서 살펴본 `Map.of()`는 불변 `Map`을 생성한다.\n",
    "\n",
    "가변 `Map`을 만들려면, `new`를 활용해 `HashMap` 클래스의 생성자를 호출하여 빈 `Map`을 생성한 다음\n",
    "`put()`메소드로 필요한 만틈 키와 그에 대응되는 값을 추가해 나가면 된다."
   ]
  },
  {
   "cell_type": "code",
   "execution_count": 29,
   "metadata": {},
   "outputs": [
    {
     "name": "stdout",
     "output_type": "stream",
     "text": [
      "{gray=white, blue=lightblue}\n"
     ]
    }
   ],
   "source": [
    "var modifiableMap = new HashMap<String, String>();\n",
    "modifiableMap.put(\"blue\", \"lightblue\");\n",
    "modifiableMap.put(\"gray\", \"white\");\n",
    "\n",
    "System.out.println(modifiableMap);"
   ]
  },
  {
   "cell_type": "markdown",
   "metadata": {},
   "source": [
    "`remove()`메소드로 어떤 키에 대응되는 키/값 대응을 가변 `Map`으로부터 제거할 수 있다."
   ]
  },
  {
   "cell_type": "code",
   "execution_count": 30,
   "metadata": {},
   "outputs": [
    {
     "name": "stdout",
     "output_type": "stream",
     "text": [
      "{gray=white}\n"
     ]
    }
   ],
   "source": [
    "modifiableMap.remove(\"blue\");\n",
    "\n",
    "System.out.println(modifiableMap);"
   ]
  },
  {
   "cell_type": "markdown",
   "metadata": {},
   "source": [
    "### `keySet()` 또는 `entrySet()`을 대상으로 반복하기(Iterating)\n",
    "`List`와 달리 `Map` 그 자체로는 `for`문을 활용할 수 없지만,\n",
    "각각의 키를 순회하도록 도와주는 메소드가 있다."
   ]
  },
  {
   "cell_type": "code",
   "execution_count": 31,
   "metadata": {},
   "outputs": [],
   "source": [
    "var petCost = Map.of(\"cat\", 200, \"dog\", 350, \"lion\", 5000);"
   ]
  },
  {
   "cell_type": "code",
   "execution_count": 32,
   "metadata": {},
   "outputs": [
    {
     "data": {
      "text/plain": [
       "[lion, dog, cat]"
      ]
     },
     "execution_count": 32,
     "metadata": {},
     "output_type": "execute_result"
    }
   ],
   "source": [
    "petCost.keySet() // 키를 원소로 하는 집합(Set)을 리턴"
   ]
  },
  {
   "cell_type": "code",
   "execution_count": 33,
   "metadata": {},
   "outputs": [
    {
     "name": "stdout",
     "output_type": "stream",
     "text": [
      "lion\n",
      "dog\n",
      "cat\n"
     ]
    }
   ],
   "source": [
    "for(var pet: petCost.keySet()) {\n",
    "  System.out.println(pet);\n",
    "}"
   ]
  },
  {
   "cell_type": "markdown",
   "metadata": {},
   "source": [
    "또 키에 대응되는 값까지 함께 순회하도록 키/값을 함께 묶은 맵의 엔트리(`Map.Entry`)들을 `for`문에 제공하도록 도와주는 메소드도 있다."
   ]
  },
  {
   "cell_type": "code",
   "execution_count": 34,
   "metadata": {},
   "outputs": [
    {
     "data": {
      "text/plain": [
       "[lion=5000, dog=350, cat=200]"
      ]
     },
     "execution_count": 34,
     "metadata": {},
     "output_type": "execute_result"
    }
   ],
   "source": [
    "petCost.entrySet() // 키/값 엔트리를 원소로 하는 집합(Set)을 리턴"
   ]
  },
  {
   "cell_type": "code",
   "execution_count": 35,
   "metadata": {},
   "outputs": [
    {
     "name": "stdout",
     "output_type": "stream",
     "text": [
      "lion=5000\n",
      "dog=350\n",
      "cat=200\n"
     ]
    }
   ],
   "source": [
    "for(var entry: petCost.entrySet()) {\n",
    "  System.out.println(entry);\n",
    "}"
   ]
  },
  {
   "cell_type": "code",
   "execution_count": 36,
   "metadata": {},
   "outputs": [
    {
     "name": "stdout",
     "output_type": "stream",
     "text": [
      "lion 5000\n",
      "dog 350\n",
      "cat 200\n"
     ]
    }
   ],
   "source": [
    "for(var entry: petCost.entrySet()) {\n",
    "  var pet = entry.getKey();\n",
    "  var cost = entry.getValue();\n",
    "  System.out.println(pet + \" \" + cost);\n",
    "}"
   ]
  },
  {
   "cell_type": "markdown",
   "metadata": {},
   "source": [
    "You can also loop over the entries using the method `forEach()`\n"
   ]
  },
  {
   "cell_type": "code",
   "execution_count": 37,
   "metadata": {},
   "outputs": [
    {
     "name": "stdout",
     "output_type": "stream",
     "text": [
      "lion 5000\n",
      "dog 350\n",
      "cat 200\n"
     ]
    }
   ],
   "source": [
    "petCost.forEach((pet, cost) -> {\n",
    "  System.out.println(pet + \" \" + cost);\n",
    "});\n"
   ]
  },
  {
   "cell_type": "markdown",
   "metadata": {},
   "source": [
    "### 불변/가변 맵으로 변환(Conversions)\n",
    "가변 맵의 복사본인 불변 맵을 `Map`의 `copyOf()` 클래스 메소드로 만들어낼 수 있다."
   ]
  },
  {
   "cell_type": "code",
   "execution_count": 38,
   "metadata": {},
   "outputs": [
    {
     "name": "stdout",
     "output_type": "stream",
     "text": [
      "{jack sparrow=pirate, hector barbossa=pirate}\n"
     ]
    }
   ],
   "source": [
    "var modifiableMap = new HashMap<String, String>();\n",
    "modifiableMap.put(\"jack sparrow\", \"pirate\");\n",
    "modifiableMap.put(\"hector barbossa\", \"pirate\");\n",
    "\n",
    "var unmodifiableMap = Map.copyOf(modifiableMap);\n",
    "\n",
    "System.out.println(unmodifiableMap);"
   ]
  },
  {
   "cell_type": "markdown",
   "metadata": {},
   "source": [
    "반대로 불변 맵의 복사본인 가변 맵을 만들려면 `new`를 활용해 `HashMap<>(Map)` 생성자를 호출하면 된다."
   ]
  },
  {
   "cell_type": "code",
   "execution_count": 39,
   "metadata": {},
   "outputs": [
    {
     "name": "stdout",
     "output_type": "stream",
     "text": [
      "{jack sparrow=pirate, hector barbossa=pirate}\n"
     ]
    }
   ],
   "source": [
    "var unmodifiableMap = Map.of(\"jack sparrow\", \"pirate\", \"hector barbossa\", \"pirate\");\n",
    "var modifiableMap = new HashMap<>(unmodifiableMap);\n",
    "\n",
    "System.out.println(modifiableMap);"
   ]
  },
  {
   "cell_type": "markdown",
   "metadata": {},
   "source": [
    "### Useful patterns\n",
    "To make the Map acts as a cache, use `computeIfAbsent()`\n"
   ]
  },
  {
   "cell_type": "code",
   "execution_count": 40,
   "metadata": {},
   "outputs": [
    {
     "name": "stdout",
     "output_type": "stream",
     "text": [
      "{Bob=[Person[name=Bob, age=23], Person[name=Bob, age=12]], Anna=[Person[name=Anna, age=32]]}\n"
     ]
    }
   ],
   "source": [
    "record Person(String name, int age) { }\n",
    "var persons = List.of(new Person(\"Bob\", 23), new Person(\"Anna\", 32), new Person(\"Bob\", 12));\n",
    "var group = new HashMap<String, List<Person>>();\n",
    "persons.forEach(person -> group.computeIfAbsent(person.name(), name -> new ArrayList<>())\n",
    "                                .add(person));\n",
    "System.out.println(group);\n"
   ]
  },
  {
   "cell_type": "markdown",
   "metadata": {},
   "source": [
    "to count the number of occurrence, use `merge()` that takes a key, a value and the function\n",
    "to call if there is already an existing value to combine them\n"
   ]
  },
  {
   "cell_type": "code",
   "execution_count": 41,
   "metadata": {},
   "outputs": [
    {
     "name": "stdout",
     "output_type": "stream",
     "text": [
      "{a=1, b=2, e=1}\n"
     ]
    }
   ],
   "source": [
    "var letters = List.of(\"a\", \"b\", \"e\", \"b\");\n",
    "var occurrenceMap = new HashMap<String, Integer>();\n",
    "letters.forEach(letter -> occurrenceMap.merge(letter, 1, Integer::sum));\n",
    "System.out.println(occurrenceMap);\n"
   ]
  },
  {
   "cell_type": "markdown",
   "metadata": {},
   "source": [
    "### More on transformations\n",
    "To do more transformations of lists and maps, use the Stream API.\n"
   ]
  }
 ],
 "metadata": {
  "kernelspec": {
   "display_name": "Java (rjk 2.1.0)",
   "language": "java",
   "name": "rapaio-jupyter-kernel"
  },
  "language_info": {
   "codemirror_mode": "java",
   "file_extension": ".jshell",
   "mimetype": "text/x-java-source",
   "name": "java",
   "nbconvert_exporter": "script",
   "pygments_lexer": "java",
   "version": "22.0.2+9"
  }
 },
 "nbformat": 4,
 "nbformat_minor": 4
}
